{
 "cells": [
  {
   "cell_type": "markdown",
   "id": "036df9a5-b6bd-42f6-bfd0-65eb8030fb98",
   "metadata": {},
   "source": [
    "# Exploratory Data Analysis - Global Terrorism"
   ]
  },
  {
   "cell_type": "code",
   "execution_count": null,
   "id": "03fc8fb3-1a70-4dbb-b65a-031e52565332",
   "metadata": {},
   "outputs": [],
   "source": []
  }
 ],
 "metadata": {
  "kernelspec": {
   "display_name": "Python 3 (ipykernel)",
   "language": "python",
   "name": "python3"
  },
  "language_info": {
   "codemirror_mode": {
    "name": "ipython",
    "version": 3
   },
   "file_extension": ".py",
   "mimetype": "text/x-python",
   "name": "python",
   "nbconvert_exporter": "python",
   "pygments_lexer": "ipython3",
   "version": "3.10.9"
  }
 },
 "nbformat": 4,
 "nbformat_minor": 5
}
