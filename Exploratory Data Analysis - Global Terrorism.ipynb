{
 "cells": [
  {
   "cell_type": "markdown",
   "id": "036df9a5-b6bd-42f6-bfd0-65eb8030fb98",
   "metadata": {},
   "source": [
    "# Exploratory Data Analysis - Global Terrorism"
   ]
  },
  {
   "cell_type": "markdown",
   "id": "15877398-5f12-4063-8a2f-b3a703230563",
   "metadata": {},
   "source": [
    "\n",
    "- Problem Statement: Perform ‘Exploratory Data Analysis’ on dataset ‘Global Terrorism’\n",
    "\n",
    "- As a security/defense analyst, try to find out the hot zone of terrorism.\n",
    "\n",
    "- What all security issues and insights you can derive by EDA?"
   ]
  },
  {
   "cell_type": "code",
   "execution_count": 1,
   "id": "f721196c-0d03-45f3-857c-2e33164a0b96",
   "metadata": {},
   "outputs": [
    {
     "name": "stdout",
     "output_type": "stream",
     "text": [
      "Requirement already satisfied: folium in c:\\users\\abhin\\appdata\\local\\programs\\python\\python312\\lib\\site-packages (0.15.1)\n",
      "Requirement already satisfied: branca>=0.6.0 in c:\\users\\abhin\\appdata\\local\\programs\\python\\python312\\lib\\site-packages (from folium) (0.7.0)\n",
      "Requirement already satisfied: jinja2>=2.9 in c:\\users\\abhin\\appdata\\local\\programs\\python\\python312\\lib\\site-packages (from folium) (3.1.2)\n",
      "Requirement already satisfied: numpy in c:\\users\\abhin\\appdata\\local\\programs\\python\\python312\\lib\\site-packages (from folium) (1.26.2)\n",
      "Requirement already satisfied: requests in c:\\users\\abhin\\appdata\\local\\programs\\python\\python312\\lib\\site-packages (from folium) (2.31.0)\n",
      "Requirement already satisfied: xyzservices in c:\\users\\abhin\\appdata\\local\\programs\\python\\python312\\lib\\site-packages (from folium) (2023.10.1)\n",
      "Requirement already satisfied: MarkupSafe>=2.0 in c:\\users\\abhin\\appdata\\local\\programs\\python\\python312\\lib\\site-packages (from jinja2>=2.9->folium) (2.1.3)\n",
      "Requirement already satisfied: charset-normalizer<4,>=2 in c:\\users\\abhin\\appdata\\local\\programs\\python\\python312\\lib\\site-packages (from requests->folium) (3.3.2)\n",
      "Requirement already satisfied: idna<4,>=2.5 in c:\\users\\abhin\\appdata\\local\\programs\\python\\python312\\lib\\site-packages (from requests->folium) (3.6)\n",
      "Requirement already satisfied: urllib3<3,>=1.21.1 in c:\\users\\abhin\\appdata\\local\\programs\\python\\python312\\lib\\site-packages (from requests->folium) (2.1.0)\n",
      "Requirement already satisfied: certifi>=2017.4.17 in c:\\users\\abhin\\appdata\\roaming\\python\\python312\\site-packages (from requests->folium) (2023.11.17)\n"
     ]
    }
   ],
   "source": [
    "import pandas as pd\n",
    "import numpy as np\n",
    "import seaborn as sns\n",
    "import matplotlib.pyplot as plt\n",
    "!py -m pip install folium"
   ]
  },
  {
   "cell_type": "code",
   "execution_count": 2,
   "id": "cb094048-753d-42a7-81f3-1d3bf15780e6",
   "metadata": {},
   "outputs": [
    {
     "ename": "ModuleNotFoundError",
     "evalue": "No module named 'folium'",
     "output_type": "error",
     "traceback": [
      "\u001b[1;31m---------------------------------------------------------------------------\u001b[0m",
      "\u001b[1;31mModuleNotFoundError\u001b[0m                       Traceback (most recent call last)",
      "Cell \u001b[1;32mIn[2], line 1\u001b[0m\n\u001b[1;32m----> 1\u001b[0m \u001b[38;5;28;01mimport\u001b[39;00m \u001b[38;5;21;01mfolium\u001b[39;00m\n\u001b[0;32m      2\u001b[0m \u001b[38;5;28;01mfrom\u001b[39;00m \u001b[38;5;21;01mfolium\u001b[39;00m\u001b[38;5;21;01m.\u001b[39;00m\u001b[38;5;21;01mplugins\u001b[39;00m \u001b[38;5;28;01mimport\u001b[39;00m MarkerCluster\n",
      "\u001b[1;31mModuleNotFoundError\u001b[0m: No module named 'folium'"
     ]
    }
   ],
   "source": [
    "import folium\n",
    "from folium.plugins import MarkerCluster"
   ]
  },
  {
   "cell_type": "code",
   "execution_count": 3,
   "id": "2c00fbf9-9949-49cd-ada6-ea272e52f495",
   "metadata": {},
   "outputs": [
    {
     "name": "stdout",
     "output_type": "stream",
     "text": [
      "\n",
      "Note: you may need to restart the kernel to use updated packages.\n",
      "Retrieving notices: ...working... done\n",
      "Collecting package metadata (current_repodata.json): ...working... done\n",
      "Solving environment: ...working... done\n",
      "\n",
      "## Package Plan ##\n",
      "\n",
      "  environment location: C:\\ProgramData\\anaconda3\n",
      "\n",
      "  added / updated specs:\n",
      "    - folium\n",
      "\n",
      "\n",
      "The following packages will be downloaded:\n",
      "\n",
      "    package                    |            build\n",
      "    ---------------------------|-----------------\n",
      "    branca-0.7.0               |     pyhd8ed1ab_1          28 KB  conda-forge\n",
      "    ca-certificates-2023.11.17 |       h56e8100_0         151 KB  conda-forge\n",
      "    certifi-2023.11.17         |     pyhd8ed1ab_0         155 KB  conda-forge\n",
      "    folium-0.15.1              |     pyhd8ed1ab_0          70 KB  conda-forge\n",
      "    xyzservices-2023.10.1      |     pyhd8ed1ab_0          35 KB  conda-forge\n",
      "    ------------------------------------------------------------\n",
      "                                           Total:         440 KB\n",
      "\n",
      "The following NEW packages will be INSTALLED:\n",
      "\n",
      "  branca             conda-forge/noarch::branca-0.7.0-pyhd8ed1ab_1 \n",
      "  folium             conda-forge/noarch::folium-0.15.1-pyhd8ed1ab_0 \n",
      "  xyzservices        conda-forge/noarch::xyzservices-2023.10.1-pyhd8ed1ab_0 \n",
      "\n",
      "The following packages will be UPDATED:\n",
      "\n",
      "  ca-certificates    pkgs/main::ca-certificates-2023.01.10~ --> conda-forge::ca-certificates-2023.11.17-h56e8100_0 \n",
      "  certifi            pkgs/main/win-64::certifi-2022.12.7-p~ --> conda-forge/noarch::certifi-2023.11.17-pyhd8ed1ab_0 \n",
      "  openssl                                 1.1.1t-h2bbff1b_0 --> 1.1.1w-h2bbff1b_0 \n",
      "\n",
      "\n",
      "\n",
      "Downloading and Extracting Packages\n",
      "\n",
      "xyzservices-2023.10. | 35 KB     |            |   0% \n",
      "\n",
      "folium-0.15.1        | 70 KB     |            |   0% \u001b[A\n",
      "\n",
      "\n",
      "ca-certificates-2023 | 151 KB    |            |   0% \u001b[A\u001b[A\n",
      "\n",
      "\n",
      "\n",
      "certifi-2023.11.17   | 155 KB    |            |   0% \u001b[A\u001b[A\u001b[A\n",
      "\n",
      "\n",
      "\n",
      "\n",
      "branca-0.7.0         | 28 KB     |            |   0% \u001b[A\u001b[A\u001b[A\u001b[A\n",
      "\n",
      "\n",
      "\n",
      "certifi-2023.11.17   | 155 KB    | #          |  10% \u001b[A\u001b[A\u001b[A\n",
      "\n",
      "\n",
      "ca-certificates-2023 | 151 KB    | #          |  11% \u001b[A\u001b[A\n",
      "\n",
      "\n",
      "ca-certificates-2023 | 151 KB    | ########## | 100% \u001b[A\u001b[A\n",
      "\n",
      "\n",
      "ca-certificates-2023 | 151 KB    | ########## | 100% \u001b[A\u001b[A\n",
      "\n",
      "\n",
      "\n",
      "certifi-2023.11.17   | 155 KB    | ########## | 100% \u001b[A\u001b[A\u001b[A\n",
      "\n",
      "\n",
      "\n",
      "certifi-2023.11.17   | 155 KB    | ########## | 100% \u001b[A\u001b[A\u001b[A\n",
      "xyzservices-2023.10. | 35 KB     | ####5      |  45% \n",
      "xyzservices-2023.10. | 35 KB     | ########## | 100% \n",
      "\n",
      "folium-0.15.1        | 70 KB     | ##2        |  23% \u001b[A\n",
      "\n",
      "\n",
      "\n",
      "\n",
      "branca-0.7.0         | 28 KB     | #####6     |  56% \u001b[A\u001b[A\u001b[A\u001b[A\n",
      "\n",
      "folium-0.15.1        | 70 KB     | ########## | 100% \u001b[A\n",
      "\n",
      "folium-0.15.1        | 70 KB     | ########## | 100% \u001b[A\n",
      "\n",
      "\n",
      "\n",
      "\n",
      "branca-0.7.0         | 28 KB     | ########## | 100% \u001b[A\u001b[A\u001b[A\u001b[A\n",
      "\n",
      "\n",
      "\n",
      "\n",
      "branca-0.7.0         | 28 KB     | ########## | 100% \u001b[A\u001b[A\u001b[A\u001b[A\n",
      "                                                     \n",
      "\n",
      "\n",
      "                                                     \u001b[A\n",
      "\n",
      "\n",
      "                                                     \u001b[A\u001b[A\n",
      "\n",
      "\n",
      "\n",
      "                                                     \u001b[A\u001b[A\u001b[A\n",
      "\n",
      "\n",
      "\n",
      "\n",
      "                                                     \u001b[A\u001b[A\u001b[A\u001b[A\n",
      "\n",
      "Preparing transaction: ...working... done\n",
      "Verifying transaction: ...working... failed\n"
     ]
    },
    {
     "name": "stderr",
     "output_type": "stream",
     "text": [
      "\n",
      "\n",
      "==> WARNING: A newer version of conda exists. <==\n",
      "  current version: 23.3.1\n",
      "  latest version: 23.11.0\n",
      "\n",
      "Please update conda by running\n",
      "\n",
      "    $ conda update -n base -c defaults conda\n",
      "\n",
      "Or to minimize the number of packages updated during conda update use\n",
      "\n",
      "     conda install conda=23.11.0\n",
      "\n",
      "\n",
      "\n",
      "EnvironmentNotWritableError: The current user does not have write permissions to the target environment.\n",
      "  environment location: C:\\ProgramData\\anaconda3\n",
      "\n",
      "\n"
     ]
    }
   ],
   "source": [
    "conda install -c conda-forge folium"
   ]
  },
  {
   "cell_type": "code",
   "execution_count": null,
   "id": "3a4d5782-c9ed-40a7-8576-327f05c7d535",
   "metadata": {},
   "outputs": [],
   "source": []
  }
 ],
 "metadata": {
  "kernelspec": {
   "display_name": "Python 3 (ipykernel)",
   "language": "python",
   "name": "python3"
  },
  "language_info": {
   "codemirror_mode": {
    "name": "ipython",
    "version": 3
   },
   "file_extension": ".py",
   "mimetype": "text/x-python",
   "name": "python",
   "nbconvert_exporter": "python",
   "pygments_lexer": "ipython3",
   "version": "3.10.9"
  }
 },
 "nbformat": 4,
 "nbformat_minor": 5
}
